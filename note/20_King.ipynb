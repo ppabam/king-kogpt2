{
 "cells": [
  {
   "cell_type": "markdown",
   "id": "9eaed98d",
   "metadata": {},
   "source": [
    "# https://pypi.org/project/president-speech/"
   ]
  },
  {
   "cell_type": "code",
   "execution_count": 2,
   "id": "8b1c85a4-e969-4f86-bdc8-84ac3f956cd2",
   "metadata": {},
   "outputs": [],
   "source": [
    "from president_speech.db.parquet_interpreter import read_parquet"
   ]
  },
  {
   "cell_type": "code",
   "execution_count": 3,
   "id": "09eb719b",
   "metadata": {},
   "outputs": [],
   "source": [
    "df = read_parquet()"
   ]
  },
  {
   "cell_type": "code",
   "execution_count": 4,
   "id": "dd8841d9",
   "metadata": {},
   "outputs": [
    {
     "data": {
      "text/html": [
       "<div>\n",
       "<style scoped>\n",
       "    .dataframe tbody tr th:only-of-type {\n",
       "        vertical-align: middle;\n",
       "    }\n",
       "\n",
       "    .dataframe tbody tr th {\n",
       "        vertical-align: top;\n",
       "    }\n",
       "\n",
       "    .dataframe thead th {\n",
       "        text-align: right;\n",
       "    }\n",
       "</style>\n",
       "<table border=\"1\" class=\"dataframe\">\n",
       "  <thead>\n",
       "    <tr style=\"text-align: right;\">\n",
       "      <th></th>\n",
       "      <th>division_number</th>\n",
       "      <th>president</th>\n",
       "      <th>title</th>\n",
       "      <th>date</th>\n",
       "      <th>location</th>\n",
       "      <th>kind</th>\n",
       "      <th>speech_text</th>\n",
       "    </tr>\n",
       "  </thead>\n",
       "  <tbody>\n",
       "    <tr>\n",
       "      <th>5368</th>\n",
       "      <td>1305368</td>\n",
       "      <td>박정희</td>\n",
       "      <td>제5대 대통령 취임식 대통령 취임사</td>\n",
       "      <td>1963.12.17</td>\n",
       "      <td>국내</td>\n",
       "      <td>취임사</td>\n",
       "      <td>\\n\\n\\n단군성조가 천혜의 이 강토 위에 국기를 닦으신지 반만년, 연면히 이어온 ...</td>\n",
       "    </tr>\n",
       "    <tr>\n",
       "      <th>5369</th>\n",
       "      <td>1305369</td>\n",
       "      <td>박정희</td>\n",
       "      <td>국회 개회식 치사</td>\n",
       "      <td>1963.12.17</td>\n",
       "      <td>국내</td>\n",
       "      <td>기념사</td>\n",
       "      <td>존경하는 국회의장, 의원제위 그리고 내외귀빈 여러분! 오늘 이 뜻깊은 제3공화국의...</td>\n",
       "    </tr>\n",
       "    <tr>\n",
       "      <th>5370</th>\n",
       "      <td>1305370</td>\n",
       "      <td>박정희</td>\n",
       "      <td>신년 메시지</td>\n",
       "      <td>1964.01.01</td>\n",
       "      <td>국내</td>\n",
       "      <td>신년사</td>\n",
       "      <td>친애하는 국내외의 동포 여러분! 혁명의 고된 시련을 겪고 민정이양으로 매듭을 지은...</td>\n",
       "    </tr>\n",
       "    <tr>\n",
       "      <th>5371</th>\n",
       "      <td>1305371</td>\n",
       "      <td>박정희</td>\n",
       "      <td>신년 시무식에 즈음한 담화문</td>\n",
       "      <td>1964</td>\n",
       "      <td>국내</td>\n",
       "      <td>성명/담화문</td>\n",
       "      <td>친애하는 전국의 공무원 여러분! 민족 역사 위에 격동과 시련의 해로 길이 기록될 계...</td>\n",
       "    </tr>\n",
       "    <tr>\n",
       "      <th>5372</th>\n",
       "      <td>1305372</td>\n",
       "      <td>박정희</td>\n",
       "      <td>고급공무원에게 보내는 서신</td>\n",
       "      <td>1964.01.04</td>\n",
       "      <td>국내</td>\n",
       "      <td>기념사</td>\n",
       "      <td>청 감갑진년의 새아침을 맞이하여 귀하와 귀하의 가정에 만복이 깃들기를 빌며, 새해에...</td>\n",
       "    </tr>\n",
       "  </tbody>\n",
       "</table>\n",
       "</div>"
      ],
      "text/plain": [
       "      division_number president                title        date location  \\\n",
       "5368          1305368       박정희  제5대 대통령 취임식 대통령 취임사  1963.12.17       국내   \n",
       "5369          1305369       박정희            국회 개회식 치사  1963.12.17       국내   \n",
       "5370          1305370       박정희               신년 메시지  1964.01.01       국내   \n",
       "5371          1305371       박정희      신년 시무식에 즈음한 담화문        1964       국내   \n",
       "5372          1305372       박정희       고급공무원에게 보내는 서신  1964.01.04       국내   \n",
       "\n",
       "        kind                                        speech_text  \n",
       "5368     취임사  \\n\\n\\n단군성조가 천혜의 이 강토 위에 국기를 닦으신지 반만년, 연면히 이어온 ...  \n",
       "5369     기념사   존경하는 국회의장, 의원제위 그리고 내외귀빈 여러분! 오늘 이 뜻깊은 제3공화국의...  \n",
       "5370     신년사   친애하는 국내외의 동포 여러분! 혁명의 고된 시련을 겪고 민정이양으로 매듭을 지은...  \n",
       "5371  성명/담화문  친애하는 전국의 공무원 여러분! 민족 역사 위에 격동과 시련의 해로 길이 기록될 계...  \n",
       "5372     기념사  청 감갑진년의 새아침을 맞이하여 귀하와 귀하의 가정에 만복이 깃들기를 빌며, 새해에...  "
      ]
     },
     "execution_count": 4,
     "metadata": {},
     "output_type": "execute_result"
    }
   ],
   "source": [
    "df.head()"
   ]
  },
  {
   "cell_type": "code",
   "execution_count": 5,
   "id": "a6598448",
   "metadata": {},
   "outputs": [
    {
     "name": "stdout",
     "output_type": "stream",
     "text": [
      "<class 'pandas.core.frame.DataFrame'>\n",
      "Index: 8771 entries, 5368 to 102591\n",
      "Data columns (total 7 columns):\n",
      " #   Column           Non-Null Count  Dtype \n",
      "---  ------           --------------  ----- \n",
      " 0   division_number  8771 non-null   int64 \n",
      " 1   president        8771 non-null   object\n",
      " 2   title            8771 non-null   object\n",
      " 3   date             8771 non-null   object\n",
      " 4   location         8771 non-null   object\n",
      " 5   kind             8771 non-null   object\n",
      " 6   speech_text      8771 non-null   object\n",
      "dtypes: int64(1), object(6)\n",
      "memory usage: 548.2+ KB\n"
     ]
    }
   ],
   "source": [
    "df.info()"
   ]
  },
  {
   "cell_type": "code",
   "execution_count": null,
   "id": "b03f851e",
   "metadata": {},
   "outputs": [],
   "source": []
  }
 ],
 "metadata": {
  "kernelspec": {
   "display_name": ".venv",
   "language": "python",
   "name": "python3"
  },
  "language_info": {
   "codemirror_mode": {
    "name": "ipython",
    "version": 3
   },
   "file_extension": ".py",
   "mimetype": "text/x-python",
   "name": "python",
   "nbconvert_exporter": "python",
   "pygments_lexer": "ipython3",
   "version": "3.11.13"
  }
 },
 "nbformat": 4,
 "nbformat_minor": 5
}
